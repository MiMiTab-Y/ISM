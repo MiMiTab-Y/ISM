{
 "cells": [
  {
   "cell_type": "markdown",
   "metadata": {},
   "source": [
    "## ISM機能階層分析"
   ]
  },
  {
   "cell_type": "markdown",
   "metadata": {},
   "source": [
    "#### ライブラリのインポート"
   ]
  },
  {
   "cell_type": "code",
   "execution_count": 3,
   "metadata": {},
   "outputs": [],
   "source": [
    "import numpy as np\n",
    "import networkx as nx\n",
    "import matplotlib.pyplot as plt\n",
    "import pandas as pd"
   ]
  },
  {
   "cell_type": "markdown",
   "metadata": {},
   "source": [
    "#### 機能項目相互間の関係のマトリックス宣言"
   ]
  },
  {
   "cell_type": "code",
   "execution_count": 4,
   "metadata": {},
   "outputs": [],
   "source": [
    "start_column = 7    # マトリックスの開始列（G列）\n",
    "start_row = 5       # マトリックスの開始行（5行）\n",
    "num = 22            # 読み取るセルの範囲（num 行の正方形を読み取る）"
   ]
  },
  {
   "cell_type": "code",
   "execution_count": 5,
   "metadata": {},
   "outputs": [
    {
     "data": {
      "text/plain": [
       "array([[0, 0, 0, 0, 0, 0, 0, 0, 0, 0, 0, 0, 0, 0, 0, 0, 0, 0, 0, 0, 0, 0],\n",
       "       [1, 0, 0, 0, 0, 0, 0, 0, 0, 0, 0, 0, 0, 0, 0, 0, 0, 0, 0, 0, 0, 0],\n",
       "       [1, 1, 0, 0, 0, 0, 0, 0, 0, 1, 0, 0, 0, 0, 0, 0, 0, 0, 1, 0, 0, 0],\n",
       "       [1, 1, 0, 0, 0, 0, 0, 0, 0, 0, 0, 0, 0, 0, 0, 0, 1, 1, 1, 0, 0, 1],\n",
       "       [1, 1, 0, 1, 0, 0, 0, 0, 0, 0, 0, 0, 0, 1, 0, 0, 1, 1, 1, 0, 0, 1],\n",
       "       [1, 1, 0, 0, 1, 0, 0, 0, 0, 0, 0, 0, 0, 1, 0, 0, 0, 0, 0, 0, 0, 0],\n",
       "       [1, 1, 0, 0, 0, 0, 0, 0, 0, 0, 0, 0, 0, 0, 0, 0, 0, 0, 0, 0, 0, 0],\n",
       "       [1, 1, 0, 0, 0, 0, 1, 0, 0, 0, 0, 0, 0, 0, 0, 0, 0, 0, 0, 0, 0, 0],\n",
       "       [1, 0, 0, 0, 0, 0, 0, 0, 0, 0, 0, 0, 0, 0, 0, 0, 0, 1, 1, 0, 0, 0],\n",
       "       [1, 0, 0, 1, 0, 0, 1, 1, 0, 0, 0, 0, 0, 0, 0, 0, 0, 0, 1, 0, 0, 0],\n",
       "       [1, 1, 0, 0, 0, 0, 0, 0, 0, 0, 0, 0, 0, 0, 0, 0, 0, 0, 0, 0, 0, 0],\n",
       "       [0, 1, 0, 0, 0, 0, 0, 0, 0, 0, 1, 0, 0, 0, 0, 0, 0, 0, 0, 0, 0, 0],\n",
       "       [0, 0, 0, 0, 0, 0, 0, 0, 0, 0, 0, 0, 0, 0, 0, 0, 0, 0, 0, 0, 0, 0],\n",
       "       [1, 1, 0, 0, 0, 1, 0, 0, 0, 0, 1, 1, 0, 0, 0, 0, 0, 0, 0, 0, 0, 0],\n",
       "       [1, 0, 0, 0, 0, 0, 0, 0, 0, 0, 0, 0, 0, 0, 0, 0, 0, 0, 1, 0, 0, 0],\n",
       "       [1, 1, 0, 0, 1, 0, 0, 0, 0, 0, 1, 0, 0, 0, 0, 0, 0, 1, 1, 0, 0, 0],\n",
       "       [1, 1, 0, 0, 0, 0, 0, 0, 0, 0, 0, 0, 0, 0, 0, 0, 0, 0, 1, 0, 0, 0],\n",
       "       [1, 1, 0, 1, 1, 0, 0, 0, 0, 0, 1, 0, 0, 0, 1, 0, 1, 0, 1, 0, 0, 1],\n",
       "       [1, 1, 0, 0, 1, 0, 0, 0, 0, 0, 1, 0, 0, 0, 1, 0, 0, 1, 0, 0, 0, 0],\n",
       "       [1, 1, 1, 0, 0, 0, 0, 0, 0, 0, 0, 0, 0, 0, 0, 0, 0, 1, 1, 0, 0, 0],\n",
       "       [0, 0, 0, 0, 0, 0, 0, 0, 1, 0, 0, 0, 0, 0, 0, 0, 0, 0, 0, 0, 0, 0],\n",
       "       [1, 1, 0, 0, 1, 0, 0, 0, 0, 0, 0, 0, 0, 0, 1, 0, 1, 1, 1, 0, 0, 0]])"
      ]
     },
     "execution_count": 5,
     "metadata": {},
     "output_type": "execute_result"
    }
   ],
   "source": [
    "# 階層構造を定義した2次元マトリックスを取得する関数\n",
    "def read_data(start_row, start_column, num):\n",
    "    df = pd.read_excel(\"機能項目相互間の関係.xlsx\", header=None, sheet_name=\"性能・性質\", \n",
    "                       skiprows=start_row - 1, nrows=num, usecols=range(start_column - 1, start_column - 1 + num))\n",
    "    \n",
    "    data = np.where(df.values == \"○\", 1, 0)\n",
    "\n",
    "    return data\n",
    "\n",
    "# データを読み取る\n",
    "matrix = read_data(start_row, start_column, num)\n",
    "matrix"
   ]
  },
  {
   "cell_type": "markdown",
   "metadata": {},
   "source": [
    "#### 各種関数の定義"
   ]
  },
  {
   "cell_type": "code",
   "execution_count": 11,
   "metadata": {},
   "outputs": [],
   "source": [
    "# ISM機能階層分析を行う関数\n",
    "def ism_FHA(matrix):\n",
    "\n",
    "    ###----------可達行列作成処理----------###\n",
    "    # 行列のサイズを取得\n",
    "    n = len(matrix)\n",
    "\n",
    "    print('\\n----------隣接行列----------')\n",
    "    matrix = matrix.astype(bool)\n",
    "    I = np.eye(n).astype(bool)\n",
    "    adj_matrix = np.logical_or(matrix, I)\n",
    "    print(adj_matrix.astype(int))\n",
    "\n",
    "    print('\\n----------可達行列----------')\n",
    "    reachability_matrix = adj_matrix.copy()\n",
    "    while not np.array_equal(reachability_matrix, reachability_matrix @ adj_matrix):\n",
    "        reachability_matrix = reachability_matrix @ adj_matrix  #@演算子を利用することで行列積を求める（bool演算）\n",
    "    print(reachability_matrix.astype(int))\n",
    "\n",
    "    return reachability_matrix\n",
    "\n",
    "# 指定した行と列を削除する関数\n",
    "def remove_rows_and_columns(matrix, rows_to_remove):\n",
    "    matrix = np.delete(matrix, rows_to_remove, axis=0)\n",
    "    matrix = np.delete(matrix, rows_to_remove, axis=1)\n",
    "    return matrix\n",
    "\n",
    "# Trueが1つだけ含まれている行を探す関数\n",
    "def find_single_true_row(matrix):\n",
    "    single_true_rows = []\n",
    "    for i in range(len(matrix)):\n",
    "        if np.sum(matrix[i]) == 1:\n",
    "            single_true_rows.append(i)\n",
    "    return single_true_rows\n",
    "\n",
    "# Trueが2つ含まれている場合"
   ]
  },
  {
   "cell_type": "code",
   "execution_count": 7,
   "metadata": {},
   "outputs": [],
   "source": [
    "# ノードの配置を取得する関数\n",
    "def get_layer_positions(removed_rows_dict, custom_pos={}):\n",
    "    positions = {}\n",
    "    current_x = 0\n",
    "    for layer, nodes in removed_rows_dict.items():\n",
    "        for node in nodes:\n",
    "            positions[node] = (current_x, -layer)\n",
    "            current_x += 1\n",
    "        current_x = 0\n",
    "\n",
    "    # custom_posで指定したノード番号のx座標を辞書リストに追加する\n",
    "    for node, x_coord in custom_pos.items():\n",
    "        positions[node] = (x_coord, positions[node][1])\n",
    "\n",
    "    return positions\n",
    "\n",
    "# グラフオブジェクトを作成する関数\n",
    "def create_graph(removed_rows_dict):\n",
    "    G = nx.DiGraph()\n",
    "\n",
    "    # ノードをグラフに追加\n",
    "    for i in range(matrix.shape[0]):\n",
    "        G.add_node(i)\n",
    "\n",
    "    # matrixを参照しエッジを追加する関数\n",
    "    def add_edges(source_node, target_nodes, target_layer_dict):\n",
    "        sorted_target_nodes = sorted(target_nodes, key=lambda node: target_layer_dict[node], reverse=True)\n",
    "        for target_node in sorted_target_nodes:\n",
    "            if source_node != target_node and not nx.has_path(G, source_node, target_node) and not nx.has_path(G, target_node, source_node):\n",
    "                G.add_edge(source_node, target_node)\n",
    "                print('Edge added:', source_node, '->' , target_node)\n",
    "\n",
    "    sorted_removed_rows_dict = dict(sorted(removed_rows_dict.items()))  # 階層を昇順にソート\n",
    "\n",
    "    # target_nodeが属する階層の情報を辞書リストとして取得\n",
    "    target_layer_dict = {}\n",
    "    for layer, nodes in removed_rows_dict.items():\n",
    "        for node in nodes:\n",
    "            target_layer_dict[node] = layer\n",
    "    \n",
    "    print('\\n--------エッジ追加処理--------')\n",
    "    for layer, nodes in sorted_removed_rows_dict.items():\n",
    "        target_nodes = []\n",
    "        for node in nodes:\n",
    "            target_nodes = matrix[node].nonzero()[0]\n",
    "            add_edges(node, target_nodes, target_layer_dict)\n",
    "    \n",
    "    return G"
   ]
  },
  {
   "cell_type": "markdown",
   "metadata": {},
   "source": [
    "#### ISM機能階層分析 と 階層グラフの作成"
   ]
  },
  {
   "cell_type": "code",
   "execution_count": 2,
   "metadata": {},
   "outputs": [],
   "source": [
    "from scipy.cluster.hierarchy import linkage, dendrogram"
   ]
  },
  {
   "cell_type": "code",
   "execution_count": null,
   "metadata": {},
   "outputs": [],
   "source": [
    "# 可達行列導出\n",
    "reachability_matrix = ism_FHA(matrix)\n",
    "\n",
    "linked = linkage(data, 'ward')"
   ]
  },
  {
   "cell_type": "code",
   "execution_count": 14,
   "metadata": {},
   "outputs": [
    {
     "name": "stdout",
     "output_type": "stream",
     "text": [
      "\n",
      "----------隣接行列----------\n",
      "[[1 0 0 0 0 0 0 0 0 0 0 0 0 0 0 0 0 0 0 0 0 0]\n",
      " [1 1 0 0 0 0 0 0 0 0 0 0 0 0 0 0 0 0 0 0 0 0]\n",
      " [1 1 1 0 0 0 0 0 0 1 0 0 0 0 0 0 0 0 1 0 0 0]\n",
      " [1 1 0 1 0 0 0 0 0 0 0 0 0 0 0 0 1 1 1 0 0 1]\n",
      " [1 1 0 1 1 0 0 0 0 0 0 0 0 1 0 0 1 1 1 0 0 1]\n",
      " [1 1 0 0 1 1 0 0 0 0 0 0 0 1 0 0 0 0 0 0 0 0]\n",
      " [1 1 0 0 0 0 1 0 0 0 0 0 0 0 0 0 0 0 0 0 0 0]\n",
      " [1 1 0 0 0 0 1 1 0 0 0 0 0 0 0 0 0 0 0 0 0 0]\n",
      " [1 0 0 0 0 0 0 0 1 0 0 0 0 0 0 0 0 1 1 0 0 0]\n",
      " [1 0 0 1 0 0 1 1 0 1 0 0 0 0 0 0 0 0 1 0 0 0]\n",
      " [1 1 0 0 0 0 0 0 0 0 1 0 0 0 0 0 0 0 0 0 0 0]\n",
      " [0 1 0 0 0 0 0 0 0 0 1 1 0 0 0 0 0 0 0 0 0 0]\n",
      " [0 0 0 0 0 0 0 0 0 0 0 0 1 0 0 0 0 0 0 0 0 0]\n",
      " [1 1 0 0 0 1 0 0 0 0 1 1 0 1 0 0 0 0 0 0 0 0]\n",
      " [1 0 0 0 0 0 0 0 0 0 0 0 0 0 1 0 0 0 1 0 0 0]\n",
      " [1 1 0 0 1 0 0 0 0 0 1 0 0 0 0 1 0 1 1 0 0 0]\n",
      " [1 1 0 0 0 0 0 0 0 0 0 0 0 0 0 0 1 0 1 0 0 0]\n",
      " [1 1 0 1 1 0 0 0 0 0 1 0 0 0 1 0 1 1 1 0 0 1]\n",
      " [1 1 0 0 1 0 0 0 0 0 1 0 0 0 1 0 0 1 1 0 0 0]\n",
      " [1 1 1 0 0 0 0 0 0 0 0 0 0 0 0 0 0 1 1 1 0 0]\n",
      " [0 0 0 0 0 0 0 0 1 0 0 0 0 0 0 0 0 0 0 0 1 0]\n",
      " [1 1 0 0 1 0 0 0 0 0 0 0 0 0 1 0 1 1 1 0 0 1]]\n",
      "\n",
      "----------可達行列----------\n",
      "[[1 0 0 0 0 0 0 0 0 0 0 0 0 0 0 0 0 0 0 0 0 0]\n",
      " [1 1 0 0 0 0 0 0 0 0 0 0 0 0 0 0 0 0 0 0 0 0]\n",
      " [1 1 1 1 1 1 1 1 0 1 1 1 0 1 1 0 1 1 1 0 0 1]\n",
      " [1 1 0 1 1 1 0 0 0 0 1 1 0 1 1 0 1 1 1 0 0 1]\n",
      " [1 1 0 1 1 1 0 0 0 0 1 1 0 1 1 0 1 1 1 0 0 1]\n",
      " [1 1 0 1 1 1 0 0 0 0 1 1 0 1 1 0 1 1 1 0 0 1]\n",
      " [1 1 0 0 0 0 1 0 0 0 0 0 0 0 0 0 0 0 0 0 0 0]\n",
      " [1 1 0 0 0 0 1 1 0 0 0 0 0 0 0 0 0 0 0 0 0 0]\n",
      " [1 1 0 1 1 1 0 0 1 0 1 1 0 1 1 0 1 1 1 0 0 1]\n",
      " [1 1 0 1 1 1 1 1 0 1 1 1 0 1 1 0 1 1 1 0 0 1]\n",
      " [1 1 0 0 0 0 0 0 0 0 1 0 0 0 0 0 0 0 0 0 0 0]\n",
      " [1 1 0 0 0 0 0 0 0 0 1 1 0 0 0 0 0 0 0 0 0 0]\n",
      " [0 0 0 0 0 0 0 0 0 0 0 0 1 0 0 0 0 0 0 0 0 0]\n",
      " [1 1 0 1 1 1 0 0 0 0 1 1 0 1 1 0 1 1 1 0 0 1]\n",
      " [1 1 0 1 1 1 0 0 0 0 1 1 0 1 1 0 1 1 1 0 0 1]\n",
      " [1 1 0 1 1 1 0 0 0 0 1 1 0 1 1 1 1 1 1 0 0 1]\n",
      " [1 1 0 1 1 1 0 0 0 0 1 1 0 1 1 0 1 1 1 0 0 1]\n",
      " [1 1 0 1 1 1 0 0 0 0 1 1 0 1 1 0 1 1 1 0 0 1]\n",
      " [1 1 0 1 1 1 0 0 0 0 1 1 0 1 1 0 1 1 1 0 0 1]\n",
      " [1 1 1 1 1 1 1 1 0 1 1 1 0 1 1 0 1 1 1 1 0 1]\n",
      " [1 1 0 1 1 1 0 0 1 0 1 1 0 1 1 0 1 1 1 0 1 1]\n",
      " [1 1 0 1 1 1 0 0 0 0 1 1 0 1 1 0 1 1 1 0 0 1]]\n"
     ]
    },
    {
     "data": {
      "image/png": "[encoded data removed]",
      "text/plain": [
       "<Figure size 640x480 with 1 Axes>"
      ]
     },
     "metadata": {},
     "output_type": "display_data"
    }
   ],
   "source": [
    "\n",
    "\n",
    "# グラフオブジェクトを作成\n",
    "G = nx.DiGraph()\n",
    "\n",
    "# 可達行列の行数（および列数）を取得\n",
    "num_nodes = len(reachability_matrix)\n",
    "\n",
    "# ノードをグラフに追加\n",
    "for node_id in range(num_nodes):\n",
    "    G.add_node(node_id)\n",
    "\n",
    "# エッジをグラフに追加\n",
    "for i in range(num_nodes):\n",
    "    for j in range(num_nodes):\n",
    "        if reachability_matrix[i][j] == 1:\n",
    "            G.add_edge(i, j)\n",
    "\n",
    "# グラフを描画\n",
    "pos = nx.spring_layout(G)  # グラフを描画するためのレイアウトを計算\n",
    "# nx.draw(G, pos, with_labels=True, node_size=700, node_color='skyblue', font_size=10, font_color='black')\n",
    "nx.draw(G, pos, with_labels=True, node_size=700, node_color='skyblue', font_size=10, font_color='black', edge_color='gray', connectionstyle=\"arc3,rad=0.2\")\n",
    "plt.title(\"有向グラフ\")\n",
    "plt.show()"
   ]
  },
  {
   "cell_type": "code",
   "execution_count": 9,
   "metadata": {},
   "outputs": [
    {
     "name": "stdout",
     "output_type": "stream",
     "text": [
      "\n",
      "----------隣接行列----------\n",
      "[[1 0 0 0 0 0 0 0 0 0 0 0 0 0 0 0 0 0 0 0 0 0]\n",
      " [1 1 0 0 0 0 0 0 0 0 0 0 0 0 0 0 0 0 0 0 0 0]\n",
      " [1 1 1 0 0 0 0 0 0 1 0 0 0 0 0 0 0 0 1 0 0 0]\n",
      " [1 1 0 1 0 0 0 0 0 0 0 0 0 0 0 0 1 1 1 0 0 1]\n",
      " [1 1 0 1 1 0 0 0 0 0 0 0 0 1 0 0 1 1 1 0 0 1]\n",
      " [1 1 0 0 1 1 0 0 0 0 0 0 0 1 0 0 0 0 0 0 0 0]\n",
      " [1 1 0 0 0 0 1 0 0 0 0 0 0 0 0 0 0 0 0 0 0 0]\n",
      " [1 1 0 0 0 0 1 1 0 0 0 0 0 0 0 0 0 0 0 0 0 0]\n",
      " [1 0 0 0 0 0 0 0 1 0 0 0 0 0 0 0 0 1 1 0 0 0]\n",
      " [1 0 0 1 0 0 1 1 0 1 0 0 0 0 0 0 0 0 1 0 0 0]\n",
      " [1 1 0 0 0 0 0 0 0 0 1 0 0 0 0 0 0 0 0 0 0 0]\n",
      " [0 1 0 0 0 0 0 0 0 0 1 1 0 0 0 0 0 0 0 0 0 0]\n",
      " [0 0 0 0 0 0 0 0 0 0 0 0 1 0 0 0 0 0 0 0 0 0]\n",
      " [1 1 0 0 0 1 0 0 0 0 1 1 0 1 0 0 0 0 0 0 0 0]\n",
      " [1 0 0 0 0 0 0 0 0 0 0 0 0 0 1 0 0 0 1 0 0 0]\n",
      " [1 1 0 0 1 0 0 0 0 0 1 0 0 0 0 1 0 1 1 0 0 0]\n",
      " [1 1 0 0 0 0 0 0 0 0 0 0 0 0 0 0 1 0 1 0 0 0]\n",
      " [1 1 0 1 1 0 0 0 0 0 1 0 0 0 1 0 1 1 1 0 0 1]\n",
      " [1 1 0 0 1 0 0 0 0 0 1 0 0 0 1 0 0 1 1 0 0 0]\n",
      " [1 1 1 0 0 0 0 0 0 0 0 0 0 0 0 0 0 1 1 1 0 0]\n",
      " [0 0 0 0 0 0 0 0 1 0 0 0 0 0 0 0 0 0 0 0 1 0]\n",
      " [1 1 0 0 1 0 0 0 0 0 0 0 0 0 1 0 1 1 1 0 0 1]]\n",
      "\n",
      "----------可達行列----------\n",
      "[[1 0 0 0 0 0 0 0 0 0 0 0 0 0 0 0 0 0 0 0 0 0]\n",
      " [1 1 0 0 0 0 0 0 0 0 0 0 0 0 0 0 0 0 0 0 0 0]\n",
      " [1 1 1 1 1 1 1 1 0 1 1 1 0 1 1 0 1 1 1 0 0 1]\n",
      " [1 1 0 1 1 1 0 0 0 0 1 1 0 1 1 0 1 1 1 0 0 1]\n",
      " [1 1 0 1 1 1 0 0 0 0 1 1 0 1 1 0 1 1 1 0 0 1]\n",
      " [1 1 0 1 1 1 0 0 0 0 1 1 0 1 1 0 1 1 1 0 0 1]\n",
      " [1 1 0 0 0 0 1 0 0 0 0 0 0 0 0 0 0 0 0 0 0 0]\n",
      " [1 1 0 0 0 0 1 1 0 0 0 0 0 0 0 0 0 0 0 0 0 0]\n",
      " [1 1 0 1 1 1 0 0 1 0 1 1 0 1 1 0 1 1 1 0 0 1]\n",
      " [1 1 0 1 1 1 1 1 0 1 1 1 0 1 1 0 1 1 1 0 0 1]\n",
      " [1 1 0 0 0 0 0 0 0 0 1 0 0 0 0 0 0 0 0 0 0 0]\n",
      " [1 1 0 0 0 0 0 0 0 0 1 1 0 0 0 0 0 0 0 0 0 0]\n",
      " [0 0 0 0 0 0 0 0 0 0 0 0 1 0 0 0 0 0 0 0 0 0]\n",
      " [1 1 0 1 1 1 0 0 0 0 1 1 0 1 1 0 1 1 1 0 0 1]\n",
      " [1 1 0 1 1 1 0 0 0 0 1 1 0 1 1 0 1 1 1 0 0 1]\n",
      " [1 1 0 1 1 1 0 0 0 0 1 1 0 1 1 1 1 1 1 0 0 1]\n",
      " [1 1 0 1 1 1 0 0 0 0 1 1 0 1 1 0 1 1 1 0 0 1]\n",
      " [1 1 0 1 1 1 0 0 0 0 1 1 0 1 1 0 1 1 1 0 0 1]\n",
      " [1 1 0 1 1 1 0 0 0 0 1 1 0 1 1 0 1 1 1 0 0 1]\n",
      " [1 1 1 1 1 1 1 1 0 1 1 1 0 1 1 0 1 1 1 1 0 1]\n",
      " [1 1 0 1 1 1 0 0 1 0 1 1 0 1 1 0 1 1 1 0 1 1]\n",
      " [1 1 0 1 1 1 0 0 0 0 1 1 0 1 1 0 1 1 1 0 0 1]]\n",
      "\n",
      "--------エッジ作成順序--------\n",
      "[(0, 0), (1, 1), (6, 6), (7, 7), (10, 10), (11, 11), (12, 12)]\n"
     ]
    }
   ],
   "source": [
    "# ISM機能階層分析を実行\n",
    "removed_rows_dict = ism_FHA(matrix) # 肩つ行列までは求まるがエッジ作成ができない"
   ]
  },
  {
   "cell_type": "code",
   "execution_count": 10,
   "metadata": {},
   "outputs": [
    {
     "ename": "AttributeError",
     "evalue": "'list' object has no attribute 'items'",
     "output_type": "error",
     "traceback": [
      "\u001b[1;31m---------------------------------------------------------------------------\u001b[0m",
      "\u001b[1;31mAttributeError\u001b[0m                            Traceback (most recent call last)",
      "\u001b[1;32mc:\\WorkSpace\\TOYODENSO\\ISM-FHA_test.ipynb セル 13\u001b[0m line \u001b[0;36m2\n\u001b[0;32m      <a href='vscode-notebook-cell:/c%3A/WorkSpace/TOYODENSO/ISM-FHA_test.ipynb#X15sZmlsZQ%3D%3D?line=0'>1</a>\u001b[0m \u001b[39m# グラフを作成\u001b[39;00m\n\u001b[1;32m----> <a href='vscode-notebook-cell:/c%3A/WorkSpace/TOYODENSO/ISM-FHA_test.ipynb#X15sZmlsZQ%3D%3D?line=1'>2</a>\u001b[0m G \u001b[39m=\u001b[39m create_graph(removed_rows_dict)\n\u001b[0;32m      <a href='vscode-notebook-cell:/c%3A/WorkSpace/TOYODENSO/ISM-FHA_test.ipynb#X15sZmlsZQ%3D%3D?line=3'>4</a>\u001b[0m \u001b[39m# ノードの配置を取得\u001b[39;00m\n\u001b[0;32m      <a href='vscode-notebook-cell:/c%3A/WorkSpace/TOYODENSO/ISM-FHA_test.ipynb#X15sZmlsZQ%3D%3D?line=4'>5</a>\u001b[0m pos \u001b[39m=\u001b[39m get_layer_positions(removed_rows_dict)\n",
      "\u001b[1;32mc:\\WorkSpace\\TOYODENSO\\ISM-FHA_test.ipynb セル 13\u001b[0m line \u001b[0;36m3\n\u001b[0;32m     <a href='vscode-notebook-cell:/c%3A/WorkSpace/TOYODENSO/ISM-FHA_test.ipynb#X15sZmlsZQ%3D%3D?line=29'>30</a>\u001b[0m             G\u001b[39m.\u001b[39madd_edge(source_node, target_node)\n\u001b[0;32m     <a href='vscode-notebook-cell:/c%3A/WorkSpace/TOYODENSO/ISM-FHA_test.ipynb#X15sZmlsZQ%3D%3D?line=30'>31</a>\u001b[0m             \u001b[39mprint\u001b[39m(\u001b[39m'\u001b[39m\u001b[39mEdge added:\u001b[39m\u001b[39m'\u001b[39m, source_node, \u001b[39m'\u001b[39m\u001b[39m->\u001b[39m\u001b[39m'\u001b[39m , target_node)\n\u001b[1;32m---> <a href='vscode-notebook-cell:/c%3A/WorkSpace/TOYODENSO/ISM-FHA_test.ipynb#X15sZmlsZQ%3D%3D?line=32'>33</a>\u001b[0m sorted_removed_rows_dict \u001b[39m=\u001b[39m \u001b[39mdict\u001b[39m(\u001b[39msorted\u001b[39m(removed_rows_dict\u001b[39m.\u001b[39;49mitems()))  \u001b[39m# 階層を昇順にソート\u001b[39;00m\n\u001b[0;32m     <a href='vscode-notebook-cell:/c%3A/WorkSpace/TOYODENSO/ISM-FHA_test.ipynb#X15sZmlsZQ%3D%3D?line=34'>35</a>\u001b[0m \u001b[39m# target_nodeが属する階層の情報を辞書リストとして取得\u001b[39;00m\n\u001b[0;32m     <a href='vscode-notebook-cell:/c%3A/WorkSpace/TOYODENSO/ISM-FHA_test.ipynb#X15sZmlsZQ%3D%3D?line=35'>36</a>\u001b[0m target_layer_dict \u001b[39m=\u001b[39m {}\n",
      "\u001b[1;31mAttributeError\u001b[0m: 'list' object has no attribute 'items'"
     ]
    }
   ],
   "source": [
    "# グラフを作成\n",
    "G = create_graph(removed_rows_dict)\n",
    "\n",
    "# ノードの配置を取得\n",
    "pos = get_layer_positions(removed_rows_dict)\n",
    "\n",
    "# グラフを描画して表示\n",
    "plt.figure(figsize=(8, 8), dpi=600)\n",
    "nx.draw(G, pos, with_labels=True, node_size=1500, node_color=\"skyblue\", font_size=10, font_weight=\"bold\", arrowsize=15)\n",
    "plt.savefig('fig\\ISM-FHA_exercise.png', format='png')\n",
    "plt.show()"
   ]
  },
  {
   "cell_type": "markdown",
   "metadata": {},
   "source": [
    "ノードの位置を調節  \n",
    "- エッジが重なって表示されているところがあるため  \n",
    "- 見やすくなるようにするため  "
   ]
  },
  {
   "cell_type": "code",
   "execution_count": null,
   "metadata": {},
   "outputs": [
    {
     "ename": "KeyError",
     "evalue": "4",
     "output_type": "error",
     "traceback": [
      "\u001b[1;31m---------------------------------------------------------------------------\u001b[0m",
      "\u001b[1;31mKeyError\u001b[0m                                  Traceback (most recent call last)",
      "\u001b[1;32mc:\\WorkSpace\\TOYODENSO\\ISM-FHA_exercise.ipynb セル 13\u001b[0m line \u001b[0;36m8\n\u001b[0;32m      <a href='vscode-notebook-cell:/c%3A/WorkSpace/TOYODENSO/ISM-FHA_exercise.ipynb#X15sZmlsZQ%3D%3D?line=1'>2</a>\u001b[0m custom_pos \u001b[39m=\u001b[39m {\u001b[39m3\u001b[39m : \u001b[39m1\u001b[39m, \n\u001b[0;32m      <a href='vscode-notebook-cell:/c%3A/WorkSpace/TOYODENSO/ISM-FHA_exercise.ipynb#X15sZmlsZQ%3D%3D?line=2'>3</a>\u001b[0m               \u001b[39m4\u001b[39m : \u001b[39m2\u001b[39m,\n\u001b[0;32m      <a href='vscode-notebook-cell:/c%3A/WorkSpace/TOYODENSO/ISM-FHA_exercise.ipynb#X15sZmlsZQ%3D%3D?line=3'>4</a>\u001b[0m               \u001b[39m11\u001b[39m: \u001b[39m-\u001b[39m\u001b[39m1\u001b[39m,\n\u001b[0;32m      <a href='vscode-notebook-cell:/c%3A/WorkSpace/TOYODENSO/ISM-FHA_exercise.ipynb#X15sZmlsZQ%3D%3D?line=4'>5</a>\u001b[0m               \u001b[39m16\u001b[39m: \u001b[39m0\u001b[39m}\n\u001b[0;32m      <a href='vscode-notebook-cell:/c%3A/WorkSpace/TOYODENSO/ISM-FHA_exercise.ipynb#X15sZmlsZQ%3D%3D?line=6'>7</a>\u001b[0m \u001b[39m# ノードの配置を取得\u001b[39;00m\n\u001b[1;32m----> <a href='vscode-notebook-cell:/c%3A/WorkSpace/TOYODENSO/ISM-FHA_exercise.ipynb#X15sZmlsZQ%3D%3D?line=7'>8</a>\u001b[0m pos_fix \u001b[39m=\u001b[39m get_layer_positions(removed_rows_dict, custom_pos)\n\u001b[0;32m     <a href='vscode-notebook-cell:/c%3A/WorkSpace/TOYODENSO/ISM-FHA_exercise.ipynb#X15sZmlsZQ%3D%3D?line=9'>10</a>\u001b[0m \u001b[39m# グラフを描画して表示\u001b[39;00m\n\u001b[0;32m     <a href='vscode-notebook-cell:/c%3A/WorkSpace/TOYODENSO/ISM-FHA_exercise.ipynb#X15sZmlsZQ%3D%3D?line=10'>11</a>\u001b[0m plt\u001b[39m.\u001b[39mfigure(figsize\u001b[39m=\u001b[39m(\u001b[39m12\u001b[39m, \u001b[39m10\u001b[39m), dpi\u001b[39m=\u001b[39m\u001b[39m600\u001b[39m)\n",
      "\u001b[1;32mc:\\WorkSpace\\TOYODENSO\\ISM-FHA_exercise.ipynb セル 13\u001b[0m line \u001b[0;36m1\n\u001b[0;32m     <a href='vscode-notebook-cell:/c%3A/WorkSpace/TOYODENSO/ISM-FHA_exercise.ipynb#X15sZmlsZQ%3D%3D?line=10'>11</a>\u001b[0m \u001b[39m# custom_posで指定したノード番号のx座標を辞書リストに追加する\u001b[39;00m\n\u001b[0;32m     <a href='vscode-notebook-cell:/c%3A/WorkSpace/TOYODENSO/ISM-FHA_exercise.ipynb#X15sZmlsZQ%3D%3D?line=11'>12</a>\u001b[0m \u001b[39mfor\u001b[39;00m node, x_coord \u001b[39min\u001b[39;00m custom_pos\u001b[39m.\u001b[39mitems():\n\u001b[1;32m---> <a href='vscode-notebook-cell:/c%3A/WorkSpace/TOYODENSO/ISM-FHA_exercise.ipynb#X15sZmlsZQ%3D%3D?line=12'>13</a>\u001b[0m     positions[node] \u001b[39m=\u001b[39m (x_coord, positions[node][\u001b[39m1\u001b[39m])\n\u001b[0;32m     <a href='vscode-notebook-cell:/c%3A/WorkSpace/TOYODENSO/ISM-FHA_exercise.ipynb#X15sZmlsZQ%3D%3D?line=14'>15</a>\u001b[0m \u001b[39mreturn\u001b[39;00m positions\n",
      "\u001b[1;31mKeyError\u001b[0m: 4"
     ]
    }
   ],
   "source": [
    "# custom_posでノード番号に対応するx座標を指定する\n",
    "custom_pos = {3 : 1, \n",
    "              4 : 2,\n",
    "              11: -1,\n",
    "              16: 0}\n",
    "\n",
    "# ノードの配置を取得\n",
    "pos_fix = get_layer_positions(removed_rows_dict, custom_pos)\n",
    "\n",
    "# グラフを描画して表示\n",
    "plt.figure(figsize=(12, 10), dpi=600)\n",
    "nx.draw(G, pos_fix, with_labels=True, node_size=1500, node_color=\"skyblue\", font_size=10, font_weight=\"bold\", arrowsize=15)\n",
    "plt.savefig('fig\\ISM-FHA_exercise_fix.png', format='png')\n",
    "plt.show()"
   ]
  }
 ],
 "metadata": {
  "kernelspec": {
   "display_name": "venv",
   "language": "python",
   "name": "python3"
  },
  "language_info": {
   "codemirror_mode": {
    "name": "ipython",
    "version": 3
   },
   "file_extension": ".py",
   "mimetype": "text/x-python",
   "name": "python",
   "nbconvert_exporter": "python",
   "pygments_lexer": "ipython3",
   "version": "3.11.3"
  },
  "orig_nbformat": 4
 },
 "nbformat": 4,
 "nbformat_minor": 2
}
