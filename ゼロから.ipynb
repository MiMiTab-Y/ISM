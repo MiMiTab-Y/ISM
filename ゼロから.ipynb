{
 "cells": [
  {
   "cell_type": "code",
   "execution_count": 2,
   "metadata": {},
   "outputs": [],
   "source": [
    "import numpy as np\n",
    "import networkx as nx\n",
    "import matplotlib.pyplot as plt\n",
    "import pandas as pd"
   ]
  },
  {
   "cell_type": "code",
   "execution_count": 2,
   "metadata": {},
   "outputs": [],
   "source": [
    "start_column = 7    # マトリックスの開始列（G列）\n",
    "start_row = 5       # マトリックスの開始行（5行）\n",
    "num = 19            # 読み取るセルの範囲（num 行の正方形を読み取る）"
   ]
  },
  {
   "cell_type": "code",
   "execution_count": 5,
   "metadata": {},
   "outputs": [
    {
     "data": {
      "text/plain": [
       "array([[0, 0, 0, 0, 0, 0, 0, 0, 0, 0, 0, 0, 0, 0, 0, 0, 0, 1, 1],\n",
       "       [1, 0, 0, 0, 0, 0, 0, 0, 0, 1, 0, 0, 0, 0, 0, 0, 0, 1, 1],\n",
       "       [1, 1, 0, 0, 0, 1, 0, 0, 0, 1, 0, 0, 0, 0, 0, 0, 0, 1, 1],\n",
       "       [1, 1, 1, 0, 0, 1, 0, 0, 0, 1, 0, 0, 0, 0, 0, 1, 0, 0, 1],\n",
       "       [1, 1, 1, 0, 0, 1, 0, 0, 0, 1, 0, 0, 0, 0, 1, 1, 0, 1, 1],\n",
       "       [1, 1, 0, 0, 0, 0, 0, 0, 0, 0, 0, 0, 0, 0, 0, 0, 0, 1, 1],\n",
       "       [0, 0, 0, 0, 0, 1, 0, 1, 1, 0, 0, 1, 1, 0, 0, 0, 0, 0, 0],\n",
       "       [1, 0, 0, 0, 0, 0, 0, 0, 0, 1, 0, 0, 0, 0, 1, 1, 0, 1, 1],\n",
       "       [0, 1, 1, 1, 1, 1, 0, 0, 0, 1, 1, 1, 0, 0, 1, 1, 1, 1, 1],\n",
       "       [1, 0, 0, 0, 0, 0, 0, 0, 0, 0, 0, 0, 0, 0, 0, 0, 0, 1, 1],\n",
       "       [0, 0, 0, 0, 0, 0, 0, 0, 0, 0, 0, 0, 0, 1, 0, 0, 0, 0, 0],\n",
       "       [0, 0, 0, 0, 0, 0, 0, 0, 0, 0, 0, 0, 0, 1, 0, 0, 1, 1, 0],\n",
       "       [0, 0, 0, 0, 0, 0, 0, 0, 0, 0, 0, 0, 0, 1, 0, 0, 0, 0, 0],\n",
       "       [0, 0, 0, 0, 0, 0, 0, 0, 0, 0, 0, 0, 0, 0, 0, 0, 0, 0, 0],\n",
       "       [0, 0, 0, 0, 0, 0, 0, 0, 0, 0, 0, 0, 0, 0, 0, 1, 0, 1, 0],\n",
       "       [0, 0, 0, 0, 0, 0, 0, 0, 0, 0, 0, 0, 0, 0, 0, 0, 0, 1, 0],\n",
       "       [0, 1, 1, 0, 0, 1, 0, 0, 0, 1, 0, 0, 0, 0, 0, 0, 0, 1, 0],\n",
       "       [0, 0, 0, 0, 0, 0, 0, 0, 0, 0, 0, 0, 0, 0, 0, 0, 0, 0, 0],\n",
       "       [0, 0, 0, 0, 0, 0, 0, 0, 0, 0, 0, 0, 0, 0, 0, 0, 0, 0, 0]])"
      ]
     },
     "execution_count": 5,
     "metadata": {},
     "output_type": "execute_result"
    }
   ],
   "source": [
    "# 階層構造を定義した2次元マトリックスを取得する関数\n",
    "def read_data(start_row, start_column, num):\n",
    "    df = pd.read_excel(\"機能項目相互間の関係.xlsx\", header=None, sheet_name=\"機能項目相互間の関係\", \n",
    "                       skiprows=start_row - 1, nrows=num, usecols=range(start_column - 1, start_column - 1 + num))\n",
    "    \n",
    "    data = np.where(df.values == \"○\", 1, 0)\n",
    "\n",
    "    return data\n",
    "\n",
    "# データを読み取る\n",
    "matrix = read_data(start_row, start_column, num)\n",
    "matrix"
   ]
  },
  {
   "cell_type": "code",
   "execution_count": 6,
   "metadata": {},
   "outputs": [],
   "source": [
    "# ISM機能階層分析を行う関数\n",
    "def ism_FHA(matrix):\n",
    "\n",
    "    ###----------可達行列作成処理----------###\n",
    "    # 行列のサイズを取得\n",
    "    n = len(matrix)\n",
    "\n",
    "    print('\\n----------隣接行列----------')\n",
    "    matrix = matrix.astype(bool)\n",
    "    I = np.eye(n).astype(bool)\n",
    "    adj_matrix = np.logical_or(matrix, I)\n",
    "    print(adj_matrix.astype(int))\n",
    "\n",
    "    print('\\n----------可達行列----------')\n",
    "    reachability_matrix = adj_matrix.copy()\n",
    "    while not np.array_equal(reachability_matrix, reachability_matrix @ adj_matrix):\n",
    "        reachability_matrix = reachability_matrix @ adj_matrix  #@演算子を利用することで行列積を求める（bool演算）\n",
    "    print(reachability_matrix.astype(int))\n",
    "\n",
    "    return reachability_matrix\n",
    "\n",
    "# 指定した行と列を削除する関数\n",
    "def remove_rows_and_columns(matrix, rows_to_remove):\n",
    "    matrix = np.delete(matrix, rows_to_remove, axis=0)\n",
    "    matrix = np.delete(matrix, rows_to_remove, axis=1)\n",
    "    return matrix\n",
    "\n",
    "# Trueが1つだけ含まれている行を探す関数\n",
    "def find_single_true_row(matrix):\n",
    "    single_true_rows = []\n",
    "    for i in range(len(matrix)):\n",
    "        if np.sum(matrix[i]) == 1:\n",
    "            single_true_rows.append(i)\n",
    "    return single_true_rows\n",
    "\n",
    "# Ri記録\n",
    "\n",
    "# Ai記録\n",
    "\n",
    "# RiかつAi\n",
    "\n",
    "# RiかつAi=Ri"
   ]
  },
  {
   "cell_type": "code",
   "execution_count": 7,
   "metadata": {},
   "outputs": [
    {
     "name": "stdout",
     "output_type": "stream",
     "text": [
      "\n",
      "----------隣接行列----------\n",
      "[[1 0 0 0 0 0 0 0 0 0 0 0 0 0 0 0 0 1 1]\n",
      " [1 1 0 0 0 0 0 0 0 1 0 0 0 0 0 0 0 1 1]\n",
      " [1 1 1 0 0 1 0 0 0 1 0 0 0 0 0 0 0 1 1]\n",
      " [1 1 1 1 0 1 0 0 0 1 0 0 0 0 0 1 0 0 1]\n",
      " [1 1 1 0 1 1 0 0 0 1 0 0 0 0 1 1 0 1 1]\n",
      " [1 1 0 0 0 1 0 0 0 0 0 0 0 0 0 0 0 1 1]\n",
      " [0 0 0 0 0 1 1 1 1 0 0 1 1 0 0 0 0 0 0]\n",
      " [1 0 0 0 0 0 0 1 0 1 0 0 0 0 1 1 0 1 1]\n",
      " [0 1 1 1 1 1 0 0 1 1 1 1 0 0 1 1 1 1 1]\n",
      " [1 0 0 0 0 0 0 0 0 1 0 0 0 0 0 0 0 1 1]\n",
      " [0 0 0 0 0 0 0 0 0 0 1 0 0 1 0 0 0 0 0]\n",
      " [0 0 0 0 0 0 0 0 0 0 0 1 0 1 0 0 1 1 0]\n",
      " [0 0 0 0 0 0 0 0 0 0 0 0 1 1 0 0 0 0 0]\n",
      " [0 0 0 0 0 0 0 0 0 0 0 0 0 1 0 0 0 0 0]\n",
      " [0 0 0 0 0 0 0 0 0 0 0 0 0 0 1 1 0 1 0]\n",
      " [0 0 0 0 0 0 0 0 0 0 0 0 0 0 0 1 0 1 0]\n",
      " [0 1 1 0 0 1 0 0 0 1 0 0 0 0 0 0 1 1 0]\n",
      " [0 0 0 0 0 0 0 0 0 0 0 0 0 0 0 0 0 1 0]\n",
      " [0 0 0 0 0 0 0 0 0 0 0 0 0 0 0 0 0 0 1]]\n",
      "\n",
      "----------可達行列----------\n",
      "[[1 0 0 0 0 0 0 0 0 0 0 0 0 0 0 0 0 1 1]\n",
      " [1 1 0 0 0 0 0 0 0 1 0 0 0 0 0 0 0 1 1]\n",
      " [1 1 1 0 0 1 0 0 0 1 0 0 0 0 0 0 0 1 1]\n",
      " [1 1 1 1 0 1 0 0 0 1 0 0 0 0 0 1 0 1 1]\n",
      " [1 1 1 0 1 1 0 0 0 1 0 0 0 0 1 1 0 1 1]\n",
      " [1 1 0 0 0 1 0 0 0 1 0 0 0 0 0 0 0 1 1]\n",
      " [1 1 1 1 1 1 1 1 1 1 1 1 1 1 1 1 1 1 1]\n",
      " [1 0 0 0 0 0 0 1 0 1 0 0 0 0 1 1 0 1 1]\n",
      " [1 1 1 1 1 1 0 0 1 1 1 1 0 1 1 1 1 1 1]\n",
      " [1 0 0 0 0 0 0 0 0 1 0 0 0 0 0 0 0 1 1]\n",
      " [0 0 0 0 0 0 0 0 0 0 1 0 0 1 0 0 0 0 0]\n",
      " [1 1 1 0 0 1 0 0 0 1 0 1 0 1 0 0 1 1 1]\n",
      " [0 0 0 0 0 0 0 0 0 0 0 0 1 1 0 0 0 0 0]\n",
      " [0 0 0 0 0 0 0 0 0 0 0 0 0 1 0 0 0 0 0]\n",
      " [0 0 0 0 0 0 0 0 0 0 0 0 0 0 1 1 0 1 0]\n",
      " [0 0 0 0 0 0 0 0 0 0 0 0 0 0 0 1 0 1 0]\n",
      " [1 1 1 0 0 1 0 0 0 1 0 0 0 0 0 0 1 1 1]\n",
      " [0 0 0 0 0 0 0 0 0 0 0 0 0 0 0 0 0 1 0]\n",
      " [0 0 0 0 0 0 0 0 0 0 0 0 0 0 0 0 0 0 1]]\n"
     ]
    }
   ],
   "source": [
    "# 可達行列導出\n",
    "reachability_matrix = ism_FHA(matrix)"
   ]
  },
  {
   "cell_type": "code",
   "execution_count": 49,
   "metadata": {},
   "outputs": [],
   "source": [
    "# 0と1で構成される行列を作成 (サンプル行列)\n",
    "matrix = np.array([\n",
    "    [1, 0, 0, 0, 0],\n",
    "    [1, 1, 0, 0, 0],\n",
    "    [1, 1, 1, 0, 1],\n",
    "    [1, 1, 1, 1, 0],\n",
    "    [1, 1, 1, 0, 1]\n",
    "])"
   ]
  },
  {
   "cell_type": "code",
   "execution_count": 50,
   "metadata": {},
   "outputs": [
    {
     "name": "stdout",
     "output_type": "stream",
     "text": [
      "[[0], [0, 1], [0, 1, 2, 4], [0, 1, 2, 3], [0, 1, 2, 4]]\n"
     ]
    }
   ],
   "source": [
    "# 各行で1になっている位置を特定し、リストで表示\n",
    "Ri = []\n",
    "for i in range(matrix.shape[0]):  # 行数\n",
    "    row_positions = [j for j in range(matrix.shape[1]) if matrix[i][j] == 1]\n",
    "    Ri.append(row_positions)\n",
    "\n",
    "print(Ri)"
   ]
  },
  {
   "cell_type": "code",
   "execution_count": 51,
   "metadata": {},
   "outputs": [
    {
     "name": "stdout",
     "output_type": "stream",
     "text": [
      "[[0, 1, 2, 3, 4], [1, 2, 3, 4], [2, 3, 4], [3], [2, 4]]\n"
     ]
    }
   ],
   "source": [
    "# 行列を転置して各列で1になっている位置を特定\n",
    "transposed_matrix = matrix.T\n",
    "Ai = []\n",
    "for j in range(transposed_matrix.shape[0]):  # 列数\n",
    "    column_positions = [i for i in range(transposed_matrix.shape[1]) if transposed_matrix[j][i] == 1]\n",
    "    Ai.append(column_positions)\n",
    "\n",
    "print(Ai)"
   ]
  },
  {
   "cell_type": "code",
   "execution_count": 52,
   "metadata": {},
   "outputs": [
    {
     "name": "stdout",
     "output_type": "stream",
     "text": [
      "[[0], [1], [2, 4], [3], [2, 4]]\n"
     ]
    }
   ],
   "source": [
    "# 各リストから位置ごとに共通する数字を取り出す\n",
    "R_and_A = []\n",
    "for i in range(min(len(Ri), len(Ai))):\n",
    "    common_elements = list(set(Ri[i]) & set(Ai[i]))\n",
    "    R_and_A.append(common_elements)\n",
    "\n",
    "print(R_and_A)"
   ]
  },
  {
   "cell_type": "code",
   "execution_count": 53,
   "metadata": {},
   "outputs": [
    {
     "name": "stdout",
     "output_type": "stream",
     "text": [
      "[[0]]\n",
      "[0]\n"
     ]
    }
   ],
   "source": [
    "R_and_A_R = []\n",
    "delete = []\n",
    "\n",
    "for i in range(min(len(Ri), len(R_and_A))):\n",
    "    if Ri[i] == R_and_A[i]:\n",
    "        R_and_A_R.append(Ri[i])\n",
    "        delete.append(i)\n",
    "\n",
    "print(R_and_A_R)\n",
    "print(delete)"
   ]
  },
  {
   "cell_type": "code",
   "execution_count": 54,
   "metadata": {},
   "outputs": [
    {
     "name": "stdout",
     "output_type": "stream",
     "text": [
      "[[], [1], [1, 2, 4], [1, 2, 3], [1, 2, 4]]\n"
     ]
    }
   ],
   "source": [
    "# 特定の数値を削除\n",
    "for row in Ri:\n",
    "    for value in delete:\n",
    "        while value in row:\n",
    "            row.remove(value)\n",
    "    \n",
    "print(Ri)"
   ]
  },
  {
   "cell_type": "code",
   "execution_count": null,
   "metadata": {},
   "outputs": [],
   "source": []
  }
 ],
 "metadata": {
  "kernelspec": {
   "display_name": "env",
   "language": "python",
   "name": "python3"
  },
  "language_info": {
   "codemirror_mode": {
    "name": "ipython",
    "version": 3
   },
   "file_extension": ".py",
   "mimetype": "text/x-python",
   "name": "python",
   "nbconvert_exporter": "python",
   "pygments_lexer": "ipython3",
   "version": "3.11.3"
  }
 },
 "nbformat": 4,
 "nbformat_minor": 2
}
